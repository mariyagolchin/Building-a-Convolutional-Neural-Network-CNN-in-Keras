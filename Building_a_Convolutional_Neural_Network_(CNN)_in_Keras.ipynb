{
  "nbformat": 4,
  "nbformat_minor": 0,
  "metadata": {
    "colab": {
      "name": "Building a Convolutional Neural Network (CNN) in Keras.ipynb",
      "provenance": [],
      "authorship_tag": "ABX9TyP+Em0t2nKEYO8GXieOgp1I",
      "include_colab_link": true
    },
    "kernelspec": {
      "name": "python3",
      "display_name": "Python 3"
    },
    "language_info": {
      "name": "python"
    }
  },
  "cells": [
    {
      "cell_type": "markdown",
      "metadata": {
        "id": "view-in-github",
        "colab_type": "text"
      },
      "source": [
        "<a href=\"https://colab.research.google.com/github/mariyagolchin/Building-a-Convolutional-Neural-Network-CNN-in-Keras/blob/main/Building_a_Convolutional_Neural_Network_(CNN)_in_Keras.ipynb\" target=\"_parent\"><img src=\"https://colab.research.google.com/assets/colab-badge.svg\" alt=\"Open In Colab\"/></a>"
      ]
    },
    {
      "cell_type": "markdown",
      "metadata": {
        "id": "_vr8jwPp5G7z"
      },
      "source": [
        "## Building a Convolutional Neural Network (CNN) in Keras"
      ]
    },
    {
      "cell_type": "markdown",
      "metadata": {
        "id": "ep5HT41x5EWG"
      },
      "source": [
        "https://towardsdatascience.com/building-a-convolutional-neural-network-cnn-in-keras-329fbbadc5f5\n"
      ]
    },
    {
      "cell_type": "markdown",
      "metadata": {
        "id": "1QeJRXKZ5B58"
      },
      "source": [
        "https://github.com/eijaz1/Building-a-CNN-in-Keras-Tutorial/blob/master/cnn_tutorial.ipynb\n"
      ]
    },
    {
      "cell_type": "markdown",
      "metadata": {
        "id": "ci-Gvkalfe5g"
      },
      "source": [
        "# **Loading the dataset**\n",
        "The **mnist dataset **is conveniently provided to us as part of the **Keras library**.\n",
        " \n",
        "so we can **easily load the dataset**. \n",
        "\n",
        "Out of the **70,000 images** provided in the dataset:\n",
        "\n",
        "   ** 60,000 **are given for** training** \n",
        "   \n",
        "   and\n",
        "   \n",
        "   ** 10,000** are given for **testing**."
      ]
    },
    {
      "cell_type": "markdown",
      "metadata": {
        "id": "ztvN6LbUgEBe"
      },
      "source": [
        "When we load the dataset below, **X_train and X_test** will contain the images, and **y_train and y_test** will contain the digits that those images represent."
      ]
    },
    {
      "cell_type": "code",
      "metadata": {
        "id": "7_Z0vi9efdm3"
      },
      "source": [
        "from keras.datasets import mnist\n",
        "#download mnist data and split into train and test sets\n",
        "(X_train, y_train), (X_test, y_test) = mnist.load_data()"
      ],
      "execution_count": 21,
      "outputs": []
    },
    {
      "cell_type": "markdown",
      "metadata": {
        "id": "yYUfAKt6gf4f"
      },
      "source": [
        "# Exploratory data analysis\n",
        "Now let’s take a look at one of the images in our dataset to see what we are working with. We will plot the first image in our dataset and check its size using the ‘shape’ function."
      ]
    },
    {
      "cell_type": "code",
      "metadata": {
        "colab": {
          "base_uri": "https://localhost:8080/",
          "height": 283
        },
        "id": "MHgjfPJigi2P",
        "outputId": "36798fb9-e52f-49a4-bafb-803230471121"
      },
      "source": [
        "import matplotlib.pyplot as plt\n",
        "#plot the first image in the dataset\n",
        "plt.imshow(X_train[0])"
      ],
      "execution_count": 22,
      "outputs": [
        {
          "output_type": "execute_result",
          "data": {
            "text/plain": [
              "<matplotlib.image.AxesImage at 0x7fb21bf36cd0>"
            ]
          },
          "metadata": {
            "tags": []
          },
          "execution_count": 22
        },
        {
          "output_type": "display_data",
          "data": {
            "image/png": "[encoded data removed]",
            "text/plain": [
              "<Figure size 432x288 with 1 Axes>"
            ]
          },
          "metadata": {
            "tags": [],
            "needs_background": "light"
          }
        }
      ]
    },
    {
      "cell_type": "code",
      "metadata": {
        "colab": {
          "base_uri": "https://localhost:8080/"
        },
        "id": "RCW73M0oguoW",
        "outputId": "0030710d-ed63-4d04-b482-3e2d3db0bad7"
      },
      "source": [
        "#check image shape\n",
        "X_train[0].shape"
      ],
      "execution_count": 23,
      "outputs": [
        {
          "output_type": "execute_result",
          "data": {
            "text/plain": [
              "(28, 28)"
            ]
          },
          "metadata": {
            "tags": []
          },
          "execution_count": 23
        }
      ]
    },
    {
      "cell_type": "markdown",
      "metadata": {
        "id": "OfFUQFo_hKvU"
      },
      "source": [
        "## Data pre-processing\n",
        "Next, we need to reshape our dataset inputs** (X_train and X_test) **to the shape that our model expects when we train the model. The first number is the number of images **(60,000 for X_train and 10,000 for X_test)**. Then comes the shape of each image **(28x28)**. The last number is 1, which signifies that the images are greyscale."
      ]
    },
    {
      "cell_type": "code",
      "metadata": {
        "id": "7atChnDVhVm7"
      },
      "source": [
        "#reshape data to fit model\n",
        "X_train = X_train.reshape(60000,28,28,1)\n",
        "X_test = X_test.reshape(10000,28,28,1)"
      ],
      "execution_count": 24,
      "outputs": []
    },
    {
      "cell_type": "markdown",
      "metadata": {
        "id": "8qNlGEoFhpxt"
      },
      "source": [
        "We need to ‘**one-hot-encode**’ our target variable. This means that** a column will be created for each output category** and a binary variable is inputted for each category. For example, we saw that the first image in the dataset is a 5. This means that the sixth number in our array will have a 1 and the rest of the array will be filled with 0."
      ]
    },
    {
      "cell_type": "code",
      "metadata": {
        "colab": {
          "base_uri": "https://localhost:8080/"
        },
        "id": "cA1JFtzch9hl",
        "outputId": "64b85c82-4210-4500-f947-1583a076ffb1"
      },
      "source": [
        "from keras.utils import to_categorical\n",
        "#one-hot encode target column\n",
        "y_train = to_categorical(y_train)\n",
        "y_test = to_categorical(y_test)\n",
        "y_train[0]"
      ],
      "execution_count": 25,
      "outputs": [
        {
          "output_type": "execute_result",
          "data": {
            "text/plain": [
              "array([0., 0., 0., 0., 0., 1., 0., 0., 0., 0.], dtype=float32)"
            ]
          },
          "metadata": {
            "tags": []
          },
          "execution_count": 25
        }
      ]
    },
    {
      "cell_type": "markdown",
      "metadata": {
        "id": "2L2mXiYOiNq0"
      },
      "source": [
        "## Building the model\n",
        "Now we are ready to build our model. Here is the code:"
      ]
    },
    {
      "cell_type": "code",
      "metadata": {
        "id": "RFZWx6SziNEc"
      },
      "source": [
        "from keras.models import Sequential\n",
        "from keras.layers import Dense, Conv2D, Flatten\n",
        "#create model\n",
        "model = Sequential()\n",
        "#add model layers\n",
        "model.add(Conv2D(64, kernel_size=3, activation='relu', input_shape=(28,28,1)))\n",
        "model.add(Conv2D(64, kernel_size=3, activation='relu', input_shape=(28,28,1)))\n",
        "model.add(Conv2D(32, kernel_size=3, activation='relu'))\n",
        "model.add(Flatten())\n",
        "model.add(Dense(10, activation='softmax'))"
      ],
      "execution_count": 29,
      "outputs": []
    },
    {
      "cell_type": "markdown",
      "metadata": {
        "id": "za1aAUhjihh8"
      },
      "source": [
        "The **model type** that we will be using is **Sequential**.\n",
        "\n",
        "**Sequential** is the **easiest way to build a model in Keras**. It allows you to **build a model layer by layer.**\n",
        "We use the **‘add()’ function** to **add layers to our model**.\n",
        "\n",
        "Our **first 2 layers** are **Conv2D layers**. These are **convolution layers** that will **deal with our input images**, which are seen as **2-dimensional matrices**.\n",
        "\n",
        "**64** in the first layer and **32** in the second layer are the** number of nodes in each layer**. This number **can be adjusted to be higher or lower**, depending on the size of the dataset. **In our case, 64 and 32 work well**, so we will stick with this for now.\n",
        "\n",
        "**Kernel size** is the **size of the filter matrix** for our convolution. So a **kernel size of 3 **means we will have a **3x3 filter matrix**. Refer back to the introduction and the first image for a refresher on this.\n",
        "\n",
        "**Activation** is the** activation function** for the layer. The activation function we will be using for our first 2 layers is the **ReLU**, or **Rectified Linear Activation**. This activation function has been proven to **work well in neural networks**.\n",
        "\n",
        "Our **first layer** also takes in an** input shape**. This is the shape of each input image, 28,28,1 as seen earlier on, with the 1 signifying that the images are greyscale.\n",
        "\n",
        "In between the **Conv2D layers and the dense layer**, there is a **‘Flatten’ layer**. Flatten serves as a **connection between the convolution and dense layers**.\n",
        "\n",
        "\n",
        "**‘Dense’** is the **layer type** we will use in for our output layer. Dense is a standard layer type that is used in many cases for neural networks.\n",
        "We will have **10 nodes in our output layer**, one for each possible outcome (0–9).\n",
        "\n",
        "The **activation is ‘softmax’**. Softmax makes the output sum up to 1 so the output can be interpreted as probabilities. The model will then make its prediction based on which option has the highest probability."
      ]
    },
    {
      "cell_type": "markdown",
      "metadata": {
        "id": "hk2wdMU8miyL"
      },
      "source": [
        "## **Compiling the model**\n",
        "Next, we need to compile our model. Compiling the model takes three parameters: optimizer, loss and metrics."
      ]
    },
    {
      "cell_type": "code",
      "metadata": {
        "id": "n9df9qmZmGIw"
      },
      "source": [
        "#compile model using accuracy to measure model performance\n",
        "model.compile(optimizer='adam', loss='categorical_crossentropy', metrics=['accuracy'])"
      ],
      "execution_count": 30,
      "outputs": []
    },
    {
      "cell_type": "markdown",
      "metadata": {
        "id": "Fra71Qutmb1_"
      },
      "source": [
        "\n",
        "The **optimizer** **controls the learning rate**. We will be using **‘adam’** as our optmizer. Adam is generally a **good optimizer to use for many cases**. The adam optimizer adjusts the learning rate throughout training.\n",
        "\n",
        "The **learning rate** determines how fast the optimal weights for the model are calculated. A **smaller learning rate may** lead to **more accurate weights** (up to a certain point), but the **time it takes to compute the weights will be longer.**\n",
        "\n",
        "We will use ‘**categorical_crossentropy’** for our **loss function**. This is the **most common choice for classification**. A **lower score indicates that the model is performing better**.\n",
        "\n",
        "To make things even easier to interpret, we will use the **‘accuracy’** metric to **see the accuracy score on the validation set when we train the model**."
      ]
    },
    {
      "cell_type": "markdown",
      "metadata": {
        "id": "lMb9oVmInxnQ"
      },
      "source": [
        "## Training the model"
      ]
    },
    {
      "cell_type": "code",
      "metadata": {
        "colab": {
          "base_uri": "https://localhost:8080/"
        },
        "id": "P8Wa2tFrmbNr",
        "outputId": "a92f74a5-b0f0-4d8d-a3d9-b0bc425d18b4"
      },
      "source": [
        "#train the model\n",
        "model.fit(X_train, y_train, validation_data=(X_test, y_test), epochs=3)"
      ],
      "execution_count": 31,
      "outputs": [
        {
          "output_type": "stream",
          "text": [
            "Epoch 1/3\n",
            "1875/1875 [==============================] - 354s 188ms/step - loss: 0.5187 - accuracy: 0.9260 - val_loss: 0.0589 - val_accuracy: 0.9801\n",
            "Epoch 2/3\n",
            "1875/1875 [==============================] - 353s 188ms/step - loss: 0.0565 - accuracy: 0.9820 - val_loss: 0.0543 - val_accuracy: 0.9822\n",
            "Epoch 3/3\n",
            "1875/1875 [==============================] - 350s 187ms/step - loss: 0.0385 - accuracy: 0.9875 - val_loss: 0.0592 - val_accuracy: 0.9830\n"
          ],
          "name": "stdout"
        },
        {
          "output_type": "execute_result",
          "data": {
            "text/plain": [
              "<tensorflow.python.keras.callbacks.History at 0x7fb21862cad0>"
            ]
          },
          "metadata": {
            "tags": []
          },
          "execution_count": 31
        }
      ]
    },
    {
      "cell_type": "markdown",
      "metadata": {
        "id": "xVG-mcxhn2DL"
      },
      "source": [
        "Now we will train our model.To train, we will use the **‘fit()’ function** **on our model** with the **following parameters:** **training data (train_X), target data (train_y), validation data, and the number of epochs**.\n",
        "For our **validation data**, we will use the** test set** provided to us in our dataset, which we have **split into X_test and y_test**.\n",
        "\n",
        "**The number of epochs is the number of times the model will cycle through the data**. The more epochs we run, the more the model will improve, up to a certain point. After that point, the model will stop improving during each epoch. For our model, we will **set the number of epochs to 3**."
      ]
    },
    {
      "cell_type": "code",
      "metadata": {
        "colab": {
          "base_uri": "https://localhost:8080/"
        },
        "id": "VHw4GPTR3MsU",
        "outputId": "60c78f06-f510-4db7-9ce6-3b59aeff73a9"
      },
      "source": [
        "#predict first 4 images in the test set\n",
        "model.predict(X_test[:4])"
      ],
      "execution_count": 32,
      "outputs": [
        {
          "output_type": "execute_result",
          "data": {
            "text/plain": [
              "array([[4.5621191e-09, 2.2740132e-12, 1.4486498e-08, 1.5363687e-09,\n",
              "        1.3807479e-13, 2.5407156e-11, 2.3049254e-16, 1.0000000e+00,\n",
              "        1.9903233e-08, 1.4292896e-08],\n",
              "       [3.5237638e-06, 4.3844243e-06, 9.9993491e-01, 2.4215550e-09,\n",
              "        7.2854861e-10, 2.8229089e-10, 3.3519245e-05, 1.1493596e-13,\n",
              "        2.3609322e-05, 1.0350132e-11],\n",
              "       [7.2509676e-10, 9.9999988e-01, 1.9183135e-09, 1.5036394e-11,\n",
              "        4.1457216e-08, 9.9059849e-10, 1.6125068e-09, 4.5794937e-09,\n",
              "        9.0832316e-08, 5.7770708e-11],\n",
              "       [9.9975353e-01, 1.5211349e-10, 1.1443099e-07, 4.5119517e-09,\n",
              "        1.3434362e-07, 2.6669485e-07, 2.3912154e-04, 2.8662213e-09,\n",
              "        2.3319212e-06, 4.6146288e-06]], dtype=float32)"
            ]
          },
          "metadata": {
            "tags": []
          },
          "execution_count": 32
        }
      ]
    },
    {
      "cell_type": "code",
      "metadata": {
        "colab": {
          "base_uri": "https://localhost:8080/"
        },
        "id": "Bw1r6Ftt3dmr",
        "outputId": "70d3dab9-660c-45cb-c5db-9e0e7cb276c2"
      },
      "source": [
        "#actual results for first 4 images in test set\n",
        "y_test[:4]"
      ],
      "execution_count": 33,
      "outputs": [
        {
          "output_type": "execute_result",
          "data": {
            "text/plain": [
              "array([[0., 0., 0., 0., 0., 0., 0., 1., 0., 0.],\n",
              "       [0., 0., 1., 0., 0., 0., 0., 0., 0., 0.],\n",
              "       [0., 1., 0., 0., 0., 0., 0., 0., 0., 0.],\n",
              "       [1., 0., 0., 0., 0., 0., 0., 0., 0., 0.]], dtype=float32)"
            ]
          },
          "metadata": {
            "tags": []
          },
          "execution_count": 33
        }
      ]
    }
  ]
}